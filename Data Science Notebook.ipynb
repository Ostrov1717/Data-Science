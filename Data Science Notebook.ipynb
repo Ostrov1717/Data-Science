{
    "metadata": {
        "kernelspec": {
            "name": "python3",
            "display_name": "Python 3.11",
            "language": "python"
        },
        "language_info": {
            "name": "python",
            "version": "3.11.9",
            "mimetype": "text/x-python",
            "codemirror_mode": {
                "name": "ipython",
                "version": 3
            },
            "pygments_lexer": "ipython3",
            "nbconvert_exporter": "python",
            "file_extension": ".py"
        }
    },
    "nbformat_minor": 4,
    "nbformat": 4,
    "cells": [
        {
            "cell_type": "markdown",
            "source": "This program prints Hello, World!",
            "metadata": {
                "collapsed": true,
                "jupyter": {
                    "outputs_hidden": true
                },
                "id": "f036df59-7d92-4739-be99-64d83b403819"
            }
        },
        {
            "cell_type": "code",
            "source": "print('Hello, World!')",
            "metadata": {
                "id": "24260d22-5efc-4367-a6fe-58909c00d954"
            },
            "outputs": [
                {
                    "name": "stdout",
                    "text": "Hello, World!\n",
                    "output_type": "stream"
                }
            ],
            "execution_count": 1
        },
        {
            "cell_type": "code",
            "source": "",
            "metadata": {
                "id": "e2d11734-67ec-486e-98d6-b6d02b02e340"
            },
            "outputs": [],
            "execution_count": null
        }
    ]
}