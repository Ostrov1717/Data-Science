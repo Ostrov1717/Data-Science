{
    "metadata": {
        "kernelspec": {
            "name": "python3",
            "display_name": "Python 3.11",
            "language": "python"
        },
        "language_info": {
            "name": "python",
            "version": "3.11.9",
            "mimetype": "text/x-python",
            "codemirror_mode": {
                "name": "ipython",
                "version": 3
            },
            "pygments_lexer": "ipython3",
            "nbconvert_exporter": "python",
            "file_extension": ".py"
        }
    },
    "nbformat_minor": 4,
    "nbformat": 4,
    "cells": [
        {
            "cell_type": "markdown",
            "source": "# My Jupyter Notebook on IBM Watson Studio",
            "metadata": {
                "id": "9b0e0495-6124-4fcf-83bf-db23d5101ed8"
            }
        },
        {
            "cell_type": "markdown",
            "source": "Oleksii, Java software developer",
            "metadata": {
                "id": "a4286408-9fd9-444a-ab0a-048ffc1fbbbc"
            }
        },
        {
            "cell_type": "markdown",
            "source": "<i>I want to get to expand my knowledge in a promising direction of development</i>",
            "metadata": {
                "id": "a84343c3-e71f-4ac8-9bda-af190215275e"
            }
        },
        {
            "cell_type": "markdown",
            "source": "<h3>Code converts minutes to hours</h3>",
            "metadata": {
                "id": "37c239b0-41e6-4dfd-9577-f0aab80dbdc6"
            }
        },
        {
            "cell_type": "code",
            "source": "minutes=200\nhours=200//60\nrem=200%60\nprint(minutes,' minutes equals - ', hours, 'hours and ',rem, ' munutes')",
            "metadata": {
                "id": "d6a6372a-a6b8-43ff-808b-3bccd8c29959"
            },
            "outputs": [
                {
                    "name": "stdout",
                    "text": "200  minutes equals -  3 hours and  20  munutes\n",
                    "output_type": "stream"
                }
            ],
            "execution_count": 2
        },
        {
            "cell_type": "markdown",
            "source": "<ol>\n    <li>One</li>\n    <li>Two</li>\n    <li>Three</li>\n</ol>\n<table align='left'>\n<tr>\n    <th>Name</th>\n</tr>\n<tr>\n    <td>Santa</td>\n</tr>\n    <tr>\n        <td>Barbara</td>\n    </tr>\n</table>",
            "metadata": {
                "id": "7386d187-f3e0-44c2-9eb0-74ad13fdaa32"
            }
        },
        {
            "cell_type": "code",
            "source": "",
            "metadata": {
                "id": "7039221e-c478-40ce-9c35-35179ee83483"
            },
            "outputs": [],
            "execution_count": null
        }
    ]
}